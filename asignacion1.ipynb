{
  "nbformat": 4,
  "nbformat_minor": 0,
  "metadata": {
    "colab": {
      "name": "asignacion1.ipynb",
      "provenance": [],
      "toc_visible": true
    },
    "kernelspec": {
      "name": "python2",
      "display_name": "Python 2"
    }
  },
  "cells": [
    {
      "cell_type": "markdown",
      "source": [
        "#ASIGNACION No. 1 (07-03-2022) -Computación Estadística\n",
        "## ESTUDIANTE : Gonzalo A Rojas Wiesner\n",
        "\n"
      ],
      "metadata": {
        "id": "-Mcqh3_Jme6E"
      }
    },
    {
      "cell_type": "markdown",
      "source": [
        "\n",
        "\n",
        "### 1. Cargar un archivo de excel (con una ruta permenanate en drive) \n",
        "\n",
        "\n"
      ],
      "metadata": {
        "id": "Eft7pLiwDpj4"
      }
    },
    {
      "cell_type": "code",
      "source": [
        "from google.colab import drive\n",
        "drive.mount('/content/drive')"
      ],
      "metadata": {
        "colab": {
          "base_uri": "https://localhost:8080/",
          "height": 0
        },
        "id": "VsOn43f9rxpc",
        "outputId": "9f2998e8-8b13-4fc9-8f5c-4347cc10f5a1"
      },
      "execution_count": 45,
      "outputs": [
        {
          "output_type": "stream",
          "name": "stdout",
          "text": [
            "Drive already mounted at /content/drive; to attempt to forcibly remount, call drive.mount(\"/content/drive\", force_remount=True).\n"
          ]
        }
      ]
    },
    {
      "cell_type": "code",
      "source": [
        "ruta_archivo_excel ='/content/drive/MyDrive/Colab_Notebooks_Gonzalo_Rojas_W_CompEstad_Gr1/medicionresistencias.xlsx'"
      ],
      "metadata": {
        "id": "e_ai19aa0H71"
      },
      "execution_count": 42,
      "outputs": []
    },
    {
      "cell_type": "code",
      "source": [
        "import pandas as pd\n",
        "archivo = pd.ExcelFile(ruta_archivo_excel)\n",
        "print(archivo.sheet_names)\n",
        "df= archivo.parse('IdResistencias')\n",
        "print(df)"
      ],
      "metadata": {
        "colab": {
          "base_uri": "https://localhost:8080/",
          "height": 0
        },
        "id": "ytWLbFiHr11l",
        "outputId": "9a750238-84eb-44d4-db79-b92f61b882ee"
      },
      "execution_count": 44,
      "outputs": [
        {
          "output_type": "stream",
          "name": "stdout",
          "text": [
            "['IdResistencias']\n",
            "   No Color 1 Color 2  Color 3 Tolerancia Valor Codigo Color  \\\n",
            "0   1  Marron   Negro    Negro        Oro             10Ω±5%   \n",
            "1   2    Rojo   Negro   Marron        Oro            200Ω±5%   \n",
            "2   3   Verde  Marron   Marron        Oro            510Ω±5%   \n",
            "3   4  Marron   Negro     Rojo        Oro           1000Ω±5%   \n",
            "4   5  Marron   Negro  Naranja        Oro            10kΩ±5%   \n",
            "5   6  Marron   Negro    Verde        Oro          1000kΩ±5%   \n",
            "\n",
            "  Valor Medicion Multimetro  \n",
            "0                 10.8Ω±1%   \n",
            "1                  202Ω±1%   \n",
            "2                  506Ω±1%   \n",
            "3                  974Ω±1%   \n",
            "4                 9.9kΩ±1%   \n",
            "5                 975kΩ±1%   \n"
          ]
        }
      ]
    },
    {
      "cell_type": "markdown",
      "source": [
        "\n",
        "\n",
        "### 2. colocar una imagen desde internet\n",
        "\n",
        "\n"
      ],
      "metadata": {
        "id": "K8rCgVHKtPUK"
      }
    },
    {
      "cell_type": "markdown",
      "source": [
        "![Ingeniería Agrícola](https://agroingeniacanarias.com/wp-content/uploads/2020/06/ingenieros-agricolas-imprescindibles-agricultura-de-precision-1080x675.jpg)\n",
        "\n",
        "[Link de la imagen](https://agroingeniacanarias.com/wp-content/uploads/2020/06/ingenieros-agricolas-imprescindibles-agricultura-de-precision-1080x675.jpg)"
      ],
      "metadata": {
        "id": "C_OCOVi9No8d"
      }
    },
    {
      "cell_type": "markdown",
      "source": [
        "\n",
        "\n",
        "### 3. Escribir una matrix 4x4 (en $\\LaTeX$)\n",
        "\n",
        "\n"
      ],
      "metadata": {
        "id": "iS4yg6AA9NTF"
      }
    },
    {
      "cell_type": "markdown",
      "source": [
        "$$\\begin{bmatrix}\n",
        "a_{11} & a_{12} & a_{13} & a_{14} \\\\\n",
        "a_{21} & a_{22} & a_{23} & a_{24} \\\\\n",
        "a_{31} & a_{32} & a_{33} & a_{34} \\\\\n",
        "a_{41} & a_{42} & a_{43} & a_{44} \\\\\n",
        "\\end{bmatrix}$$"
      ],
      "metadata": {
        "id": "_TYEZJITD8MF"
      }
    },
    {
      "cell_type": "markdown",
      "source": [
        "\n",
        "\n",
        "### 4. ¿Como crear un tabla? (en $\\LaTeX$)\n",
        "\n",
        "\n"
      ],
      "metadata": {
        "id": "569k4PAu9kXo"
      }
    },
    {
      "cell_type": "markdown",
      "source": [
        "##### *Utilizamos la funcion array*\n",
        "$$ \\begin{array}{|c|c|} \\hline\n",
        "column1 & column2 & column3 & column4 \\\\ \\hline\n",
        "Item1 & valor1 & valor2 & valor3 \\\\ \\hline\n",
        "Item2 & valor4 & valor5 & valor6 \\\\\\hline\n",
        "Item3 & valor7 & valor8 & valor9 \\\\ \\hline\n",
        "\\end{array} $$"
      ],
      "metadata": {
        "id": "SqQt1ceryjoo"
      }
    },
    {
      "cell_type": "markdown",
      "source": [
        "\n",
        "\n",
        "### 5. Copiar una ecuación estadistica (en $\\LaTeX$)\n",
        "\n",
        "\n"
      ],
      "metadata": {
        "id": "h2ydkPQ991K3"
      }
    },
    {
      "cell_type": "markdown",
      "source": [
        "##### *Esta es la función de variable aleatoria en inferencia estadística, si \"X\" es continua:*\n",
        "$$E[Y]= E[u(X)]=\\int_{-\\infty}^{\\infty}u(x)f_X(x)dx$$"
      ],
      "metadata": {
        "id": "QDL6HNPzHJ6t"
      }
    }
  ]
}